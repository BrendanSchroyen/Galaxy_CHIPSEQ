{
 "cells": [
  {
   "cell_type": "code",
   "execution_count": 11,
   "id": "03494329",
   "metadata": {},
   "outputs": [],
   "source": [
    "import pandas as pd\n",
    "import re\n",
    "import gzip\n",
    "\n",
    "# Define the input and output file paths\n",
    "gtf_file = r\"C:\\Users\\brschroy\\OneDrive - Vrije Universiteit Brussel\\Documenten\\PhD_Haloferax_mediterranei_2023\\8. Research\\TetR - ChipSeq\\Genome and GTF\\Haloferax_mediterranei_atcc_33500_gca_000306765.ASM30676v2.59.gtf.gz\"\n",
    "output_bed_file = r\"C:\\Users\\brschroy\\OneDrive - Vrije Universiteit Brussel\\Documenten\\PhD_Haloferax_mediterranei_2023\\8. Research\\TetR - ChipSeq\\Genome and GTF\\output.bed\"\n",
    "\n",
    "# Read the GTF file (assuming it's gzipped)\n",
    "with gzip.open(gtf_file, 'rt') as f:\n",
    "    gtf_df = pd.read_csv(f, sep='\\t', comment='#', header=None, names=[\n",
    "        'Seqname', 'Source', 'Feature', 'Start', 'End', 'Score', 'Strand', 'Frame', 'Attributes'\n",
    "    ])\n",
    "\n",
    "# Filter the DataFrame to only include rows where Feature is 'gene'\n",
    "gtf_df = gtf_df[gtf_df['Feature'] == 'gene']\n",
    "\n",
    "# Function to extract gene_name and gene_id from the attribute field\n",
    "def extract_gene_name_or_id(attribute):\n",
    "    gene_name_match = re.search(r'gene_name \"([^\"]+)\"', attribute)\n",
    "    gene_id_match = re.search(r'gene_id \"([^\"]+)\"', attribute)\n",
    "    if gene_name_match:\n",
    "        return gene_name_match.group(1)\n",
    "    elif gene_id_match:\n",
    "        return gene_id_match.group(1)\n",
    "    return None\n",
    "\n",
    "# Apply the function to extract gene_name or gene_id\n",
    "gtf_df['Name'] = gtf_df['Attributes'].apply(extract_gene_name_or_id)\n",
    "\n",
    "# Filter for the necessary columns and rename them accordingly\n",
    "bed6_df = gtf_df[['Seqname', 'Start', 'End', 'Name', 'Score', 'Strand']].copy()\n",
    "\n",
    "# Ensure start is 0-based for BED format (GTF is 1-based)\n",
    "bed6_df.loc[:, 'Start'] = bed6_df['Start'] - 1\n",
    "\n",
    "# Optionally, set the score to '.' if not available\n",
    "bed6_df.loc[:, 'Score'] = '.'\n",
    "\n",
    "# Save as BED6 file\n",
    "bed6_df.to_csv(output_bed_file, sep='\\t', header=False, index=False)\n"
   ]
  },
  {
   "cell_type": "code",
   "execution_count": null,
   "id": "ccd8d0dc",
   "metadata": {},
   "outputs": [],
   "source": []
  }
 ],
 "metadata": {
  "kernelspec": {
   "display_name": "Python 3 (ipykernel)",
   "language": "python",
   "name": "python3"
  },
  "language_info": {
   "codemirror_mode": {
    "name": "ipython",
    "version": 3
   },
   "file_extension": ".py",
   "mimetype": "text/x-python",
   "name": "python",
   "nbconvert_exporter": "python",
   "pygments_lexer": "ipython3",
   "version": "3.9.7"
  }
 },
 "nbformat": 4,
 "nbformat_minor": 5
}
